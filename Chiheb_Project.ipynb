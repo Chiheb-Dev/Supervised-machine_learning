{
  "nbformat": 4,
  "nbformat_minor": 0,
  "metadata": {
    "colab": {
      "name": "Chiheb_Project.ipynb",
      "provenance": [],
      "collapsed_sections": []
    },
    "kernelspec": {
      "name": "python3",
      "display_name": "Python 3"
    }
  },
  "cells": [
    {
      "cell_type": "markdown",
      "metadata": {
        "id": "KTpC_U9I02W8"
      },
      "source": [
        "##Necessary imports"
      ]
    },
    {
      "cell_type": "code",
      "metadata": {
        "colab": {
          "base_uri": "https://localhost:8080/"
        },
        "id": "0uJ84Wk0qRc3",
        "outputId": "1aa7f0f7-a2b0-410c-b1d2-f9705ea178f1"
      },
      "source": [
        "!pip install missingno\r\n",
        "import pandas as pd\r\n",
        "import seaborn as sns\r\n",
        "import missingno as msno\r\n",
        "import matplotlib.pyplot as plt\r\n",
        "from sklearn.preprocessing import  MinMaxScaler\r\n",
        "from sklearn.model_selection import train_test_split, cross_val_score, cross_val_predict, KFold\r\n",
        "from sklearn.metrics import f1_score, confusion_matrix , classification_report\r\n",
        "from sklearn.neural_network import MLPClassifier\r\n",
        "from sklearn import metrics, tree\r\n",
        "from sklearn.naive_bayes import GaussianNB\r\n",
        "from sklearn.svm import SVC\r\n",
        "from numpy import std, mean"
      ],
      "execution_count": 300,
      "outputs": [
        {
          "output_type": "stream",
          "text": [
            "Requirement already satisfied: missingno in /usr/local/lib/python3.6/dist-packages (0.4.2)\n",
            "Requirement already satisfied: scipy in /usr/local/lib/python3.6/dist-packages (from missingno) (1.4.1)\n",
            "Requirement already satisfied: seaborn in /usr/local/lib/python3.6/dist-packages (from missingno) (0.11.0)\n",
            "Requirement already satisfied: matplotlib in /usr/local/lib/python3.6/dist-packages (from missingno) (3.2.2)\n",
            "Requirement already satisfied: numpy in /usr/local/lib/python3.6/dist-packages (from missingno) (1.19.4)\n",
            "Requirement already satisfied: pandas>=0.23 in /usr/local/lib/python3.6/dist-packages (from seaborn->missingno) (1.1.5)\n",
            "Requirement already satisfied: python-dateutil>=2.1 in /usr/local/lib/python3.6/dist-packages (from matplotlib->missingno) (2.8.1)\n",
            "Requirement already satisfied: pyparsing!=2.0.4,!=2.1.2,!=2.1.6,>=2.0.1 in /usr/local/lib/python3.6/dist-packages (from matplotlib->missingno) (2.4.7)\n",
            "Requirement already satisfied: kiwisolver>=1.0.1 in /usr/local/lib/python3.6/dist-packages (from matplotlib->missingno) (1.3.1)\n",
            "Requirement already satisfied: cycler>=0.10 in /usr/local/lib/python3.6/dist-packages (from matplotlib->missingno) (0.10.0)\n",
            "Requirement already satisfied: pytz>=2017.2 in /usr/local/lib/python3.6/dist-packages (from pandas>=0.23->seaborn->missingno) (2018.9)\n",
            "Requirement already satisfied: six>=1.5 in /usr/local/lib/python3.6/dist-packages (from python-dateutil>=2.1->matplotlib->missingno) (1.15.0)\n"
          ],
          "name": "stdout"
        }
      ]
    },
    {
      "cell_type": "markdown",
      "metadata": {
        "id": "45StKFuL1WkT"
      },
      "source": [
        "#Load data"
      ]
    },
    {
      "cell_type": "code",
      "metadata": {
        "colab": {
          "base_uri": "https://localhost:8080/",
          "height": 456
        },
        "id": "K5HIYmktHxFd",
        "outputId": "2cd1069e-b9aa-4804-f6d1-b7a150de785f"
      },
      "source": [
        "xlx_path = '/content/drive/MyDrive/data.xlsx'\r\n",
        "df = pd.read_excel(xlx_path, index_col=0)\r\n",
        "df"
      ],
      "execution_count": 301,
      "outputs": [
        {
          "output_type": "execute_result",
          "data": {
            "text/html": [
              "<div>\n",
              "<style scoped>\n",
              "    .dataframe tbody tr th:only-of-type {\n",
              "        vertical-align: middle;\n",
              "    }\n",
              "\n",
              "    .dataframe tbody tr th {\n",
              "        vertical-align: top;\n",
              "    }\n",
              "\n",
              "    .dataframe thead th {\n",
              "        text-align: right;\n",
              "    }\n",
              "</style>\n",
              "<table border=\"1\" class=\"dataframe\">\n",
              "  <thead>\n",
              "    <tr style=\"text-align: right;\">\n",
              "      <th></th>\n",
              "      <th>Gender</th>\n",
              "      <th>Nationality</th>\n",
              "      <th>Major</th>\n",
              "      <th>Level</th>\n",
              "      <th>IE1</th>\n",
              "      <th>SMSK3</th>\n",
              "      <th>RAS1</th>\n",
              "      <th>RAS2</th>\n",
              "      <th>SMSK1</th>\n",
              "      <th>SMSK4</th>\n",
              "      <th>IE2</th>\n",
              "      <th>TL1</th>\n",
              "      <th>RAS3</th>\n",
              "      <th>IE3</th>\n",
              "      <th>RAS4</th>\n",
              "      <th>RAS5</th>\n",
              "      <th>IE4</th>\n",
              "      <th>SMSK2</th>\n",
              "      <th>TL2</th>\n",
              "      <th>TL3</th>\n",
              "      <th>PSD1</th>\n",
              "      <th>PSD2</th>\n",
              "      <th>PSD3</th>\n",
              "      <th>IE5</th>\n",
              "      <th>PSD4</th>\n",
              "      <th>PSD5</th>\n",
              "      <th>IM1</th>\n",
              "      <th>IM2</th>\n",
              "      <th>IM3</th>\n",
              "      <th>IM4</th>\n",
              "      <th>IM5</th>\n",
              "      <th>IM6</th>\n",
              "      <th>W1</th>\n",
              "      <th>W2</th>\n",
              "      <th>W3</th>\n",
              "      <th>Employed</th>\n",
              "      <th>Score</th>\n",
              "      <th>Class</th>\n",
              "    </tr>\n",
              "    <tr>\n",
              "      <th>ID</th>\n",
              "      <th></th>\n",
              "      <th></th>\n",
              "      <th></th>\n",
              "      <th></th>\n",
              "      <th></th>\n",
              "      <th></th>\n",
              "      <th></th>\n",
              "      <th></th>\n",
              "      <th></th>\n",
              "      <th></th>\n",
              "      <th></th>\n",
              "      <th></th>\n",
              "      <th></th>\n",
              "      <th></th>\n",
              "      <th></th>\n",
              "      <th></th>\n",
              "      <th></th>\n",
              "      <th></th>\n",
              "      <th></th>\n",
              "      <th></th>\n",
              "      <th></th>\n",
              "      <th></th>\n",
              "      <th></th>\n",
              "      <th></th>\n",
              "      <th></th>\n",
              "      <th></th>\n",
              "      <th></th>\n",
              "      <th></th>\n",
              "      <th></th>\n",
              "      <th></th>\n",
              "      <th></th>\n",
              "      <th></th>\n",
              "      <th></th>\n",
              "      <th></th>\n",
              "      <th></th>\n",
              "      <th></th>\n",
              "      <th></th>\n",
              "      <th></th>\n",
              "    </tr>\n",
              "  </thead>\n",
              "  <tbody>\n",
              "    <tr>\n",
              "      <th>1</th>\n",
              "      <td>0</td>\n",
              "      <td>1</td>\n",
              "      <td>0</td>\n",
              "      <td>2</td>\n",
              "      <td>4</td>\n",
              "      <td>3</td>\n",
              "      <td>4</td>\n",
              "      <td>4</td>\n",
              "      <td>2</td>\n",
              "      <td>3</td>\n",
              "      <td>3</td>\n",
              "      <td>3</td>\n",
              "      <td>4</td>\n",
              "      <td>3</td>\n",
              "      <td>3</td>\n",
              "      <td>2</td>\n",
              "      <td>4</td>\n",
              "      <td>3</td>\n",
              "      <td>3</td>\n",
              "      <td>4</td>\n",
              "      <td>3</td>\n",
              "      <td>3</td>\n",
              "      <td>4</td>\n",
              "      <td>3</td>\n",
              "      <td>3</td>\n",
              "      <td>3</td>\n",
              "      <td>4</td>\n",
              "      <td>4</td>\n",
              "      <td>4</td>\n",
              "      <td>4</td>\n",
              "      <td>4</td>\n",
              "      <td>4</td>\n",
              "      <td>4.0</td>\n",
              "      <td>4.0</td>\n",
              "      <td>4.0</td>\n",
              "      <td>1.0</td>\n",
              "      <td>3.20</td>\n",
              "      <td>1</td>\n",
              "    </tr>\n",
              "    <tr>\n",
              "      <th>2</th>\n",
              "      <td>0</td>\n",
              "      <td>0</td>\n",
              "      <td>0</td>\n",
              "      <td>2</td>\n",
              "      <td>4</td>\n",
              "      <td>4</td>\n",
              "      <td>4</td>\n",
              "      <td>4</td>\n",
              "      <td>3</td>\n",
              "      <td>3</td>\n",
              "      <td>4</td>\n",
              "      <td>4</td>\n",
              "      <td>3</td>\n",
              "      <td>4</td>\n",
              "      <td>4</td>\n",
              "      <td>2</td>\n",
              "      <td>4</td>\n",
              "      <td>4</td>\n",
              "      <td>4</td>\n",
              "      <td>4</td>\n",
              "      <td>4</td>\n",
              "      <td>3</td>\n",
              "      <td>3</td>\n",
              "      <td>4</td>\n",
              "      <td>4</td>\n",
              "      <td>3</td>\n",
              "      <td>3</td>\n",
              "      <td>4</td>\n",
              "      <td>4</td>\n",
              "      <td>3</td>\n",
              "      <td>4</td>\n",
              "      <td>4</td>\n",
              "      <td>3.0</td>\n",
              "      <td>4.0</td>\n",
              "      <td>3.0</td>\n",
              "      <td>0.0</td>\n",
              "      <td>3.82</td>\n",
              "      <td>1</td>\n",
              "    </tr>\n",
              "    <tr>\n",
              "      <th>3</th>\n",
              "      <td>0</td>\n",
              "      <td>1</td>\n",
              "      <td>0</td>\n",
              "      <td>1</td>\n",
              "      <td>3</td>\n",
              "      <td>2</td>\n",
              "      <td>3</td>\n",
              "      <td>4</td>\n",
              "      <td>3</td>\n",
              "      <td>3</td>\n",
              "      <td>4</td>\n",
              "      <td>2</td>\n",
              "      <td>4</td>\n",
              "      <td>3</td>\n",
              "      <td>3</td>\n",
              "      <td>2</td>\n",
              "      <td>3</td>\n",
              "      <td>3</td>\n",
              "      <td>2</td>\n",
              "      <td>3</td>\n",
              "      <td>2</td>\n",
              "      <td>3</td>\n",
              "      <td>3</td>\n",
              "      <td>3</td>\n",
              "      <td>3</td>\n",
              "      <td>3</td>\n",
              "      <td>4</td>\n",
              "      <td>4</td>\n",
              "      <td>3</td>\n",
              "      <td>4</td>\n",
              "      <td>4</td>\n",
              "      <td>3</td>\n",
              "      <td>4.0</td>\n",
              "      <td>4.0</td>\n",
              "      <td>2.0</td>\n",
              "      <td>1.0</td>\n",
              "      <td>3.75</td>\n",
              "      <td>1</td>\n",
              "    </tr>\n",
              "    <tr>\n",
              "      <th>4</th>\n",
              "      <td>1</td>\n",
              "      <td>1</td>\n",
              "      <td>1</td>\n",
              "      <td>3</td>\n",
              "      <td>4</td>\n",
              "      <td>4</td>\n",
              "      <td>4</td>\n",
              "      <td>4</td>\n",
              "      <td>4</td>\n",
              "      <td>3</td>\n",
              "      <td>4</td>\n",
              "      <td>4</td>\n",
              "      <td>4</td>\n",
              "      <td>4</td>\n",
              "      <td>4</td>\n",
              "      <td>3</td>\n",
              "      <td>4</td>\n",
              "      <td>3</td>\n",
              "      <td>3</td>\n",
              "      <td>4</td>\n",
              "      <td>3</td>\n",
              "      <td>4</td>\n",
              "      <td>3</td>\n",
              "      <td>3</td>\n",
              "      <td>4</td>\n",
              "      <td>4</td>\n",
              "      <td>4</td>\n",
              "      <td>4</td>\n",
              "      <td>4</td>\n",
              "      <td>4</td>\n",
              "      <td>4</td>\n",
              "      <td>4</td>\n",
              "      <td>3.0</td>\n",
              "      <td>4.0</td>\n",
              "      <td>4.0</td>\n",
              "      <td>1.0</td>\n",
              "      <td>3.70</td>\n",
              "      <td>1</td>\n",
              "    </tr>\n",
              "    <tr>\n",
              "      <th>5</th>\n",
              "      <td>0</td>\n",
              "      <td>0</td>\n",
              "      <td>0</td>\n",
              "      <td>2</td>\n",
              "      <td>4</td>\n",
              "      <td>3</td>\n",
              "      <td>3</td>\n",
              "      <td>4</td>\n",
              "      <td>3</td>\n",
              "      <td>3</td>\n",
              "      <td>4</td>\n",
              "      <td>4</td>\n",
              "      <td>4</td>\n",
              "      <td>3</td>\n",
              "      <td>3</td>\n",
              "      <td>3</td>\n",
              "      <td>3</td>\n",
              "      <td>3</td>\n",
              "      <td>3</td>\n",
              "      <td>3</td>\n",
              "      <td>4</td>\n",
              "      <td>3</td>\n",
              "      <td>4</td>\n",
              "      <td>3</td>\n",
              "      <td>3</td>\n",
              "      <td>4</td>\n",
              "      <td>3</td>\n",
              "      <td>3</td>\n",
              "      <td>4</td>\n",
              "      <td>3</td>\n",
              "      <td>3</td>\n",
              "      <td>3</td>\n",
              "      <td>4.0</td>\n",
              "      <td>4.0</td>\n",
              "      <td>2.0</td>\n",
              "      <td>1.0</td>\n",
              "      <td>3.82</td>\n",
              "      <td>0</td>\n",
              "    </tr>\n",
              "    <tr>\n",
              "      <th>...</th>\n",
              "      <td>...</td>\n",
              "      <td>...</td>\n",
              "      <td>...</td>\n",
              "      <td>...</td>\n",
              "      <td>...</td>\n",
              "      <td>...</td>\n",
              "      <td>...</td>\n",
              "      <td>...</td>\n",
              "      <td>...</td>\n",
              "      <td>...</td>\n",
              "      <td>...</td>\n",
              "      <td>...</td>\n",
              "      <td>...</td>\n",
              "      <td>...</td>\n",
              "      <td>...</td>\n",
              "      <td>...</td>\n",
              "      <td>...</td>\n",
              "      <td>...</td>\n",
              "      <td>...</td>\n",
              "      <td>...</td>\n",
              "      <td>...</td>\n",
              "      <td>...</td>\n",
              "      <td>...</td>\n",
              "      <td>...</td>\n",
              "      <td>...</td>\n",
              "      <td>...</td>\n",
              "      <td>...</td>\n",
              "      <td>...</td>\n",
              "      <td>...</td>\n",
              "      <td>...</td>\n",
              "      <td>...</td>\n",
              "      <td>...</td>\n",
              "      <td>...</td>\n",
              "      <td>...</td>\n",
              "      <td>...</td>\n",
              "      <td>...</td>\n",
              "      <td>...</td>\n",
              "      <td>...</td>\n",
              "    </tr>\n",
              "    <tr>\n",
              "      <th>256</th>\n",
              "      <td>1</td>\n",
              "      <td>0</td>\n",
              "      <td>1</td>\n",
              "      <td>2</td>\n",
              "      <td>4</td>\n",
              "      <td>4</td>\n",
              "      <td>4</td>\n",
              "      <td>4</td>\n",
              "      <td>4</td>\n",
              "      <td>4</td>\n",
              "      <td>4</td>\n",
              "      <td>4</td>\n",
              "      <td>4</td>\n",
              "      <td>4</td>\n",
              "      <td>4</td>\n",
              "      <td>2</td>\n",
              "      <td>4</td>\n",
              "      <td>4</td>\n",
              "      <td>4</td>\n",
              "      <td>4</td>\n",
              "      <td>4</td>\n",
              "      <td>4</td>\n",
              "      <td>4</td>\n",
              "      <td>3</td>\n",
              "      <td>3</td>\n",
              "      <td>4</td>\n",
              "      <td>4</td>\n",
              "      <td>4</td>\n",
              "      <td>4</td>\n",
              "      <td>4</td>\n",
              "      <td>4</td>\n",
              "      <td>4</td>\n",
              "      <td>4.0</td>\n",
              "      <td>4.0</td>\n",
              "      <td>4.0</td>\n",
              "      <td>1.0</td>\n",
              "      <td>3.34</td>\n",
              "      <td>1</td>\n",
              "    </tr>\n",
              "    <tr>\n",
              "      <th>257</th>\n",
              "      <td>0</td>\n",
              "      <td>0</td>\n",
              "      <td>0</td>\n",
              "      <td>1</td>\n",
              "      <td>4</td>\n",
              "      <td>4</td>\n",
              "      <td>4</td>\n",
              "      <td>3</td>\n",
              "      <td>4</td>\n",
              "      <td>4</td>\n",
              "      <td>4</td>\n",
              "      <td>4</td>\n",
              "      <td>4</td>\n",
              "      <td>4</td>\n",
              "      <td>4</td>\n",
              "      <td>4</td>\n",
              "      <td>4</td>\n",
              "      <td>4</td>\n",
              "      <td>4</td>\n",
              "      <td>4</td>\n",
              "      <td>4</td>\n",
              "      <td>4</td>\n",
              "      <td>4</td>\n",
              "      <td>4</td>\n",
              "      <td>4</td>\n",
              "      <td>4</td>\n",
              "      <td>3</td>\n",
              "      <td>4</td>\n",
              "      <td>4</td>\n",
              "      <td>4</td>\n",
              "      <td>4</td>\n",
              "      <td>4</td>\n",
              "      <td>4.0</td>\n",
              "      <td>4.0</td>\n",
              "      <td>NaN</td>\n",
              "      <td>0.0</td>\n",
              "      <td>3.18</td>\n",
              "      <td>1</td>\n",
              "    </tr>\n",
              "    <tr>\n",
              "      <th>258</th>\n",
              "      <td>0</td>\n",
              "      <td>0</td>\n",
              "      <td>0</td>\n",
              "      <td>1</td>\n",
              "      <td>3</td>\n",
              "      <td>3</td>\n",
              "      <td>3</td>\n",
              "      <td>3</td>\n",
              "      <td>3</td>\n",
              "      <td>3</td>\n",
              "      <td>3</td>\n",
              "      <td>3</td>\n",
              "      <td>3</td>\n",
              "      <td>3</td>\n",
              "      <td>3</td>\n",
              "      <td>2</td>\n",
              "      <td>3</td>\n",
              "      <td>3</td>\n",
              "      <td>3</td>\n",
              "      <td>3</td>\n",
              "      <td>3</td>\n",
              "      <td>3</td>\n",
              "      <td>3</td>\n",
              "      <td>1</td>\n",
              "      <td>3</td>\n",
              "      <td>3</td>\n",
              "      <td>3</td>\n",
              "      <td>3</td>\n",
              "      <td>3</td>\n",
              "      <td>3</td>\n",
              "      <td>3</td>\n",
              "      <td>3</td>\n",
              "      <td>NaN</td>\n",
              "      <td>3.0</td>\n",
              "      <td>NaN</td>\n",
              "      <td>0.0</td>\n",
              "      <td>3.97</td>\n",
              "      <td>0</td>\n",
              "    </tr>\n",
              "    <tr>\n",
              "      <th>259</th>\n",
              "      <td>1</td>\n",
              "      <td>0</td>\n",
              "      <td>0</td>\n",
              "      <td>2</td>\n",
              "      <td>4</td>\n",
              "      <td>4</td>\n",
              "      <td>4</td>\n",
              "      <td>4</td>\n",
              "      <td>4</td>\n",
              "      <td>4</td>\n",
              "      <td>4</td>\n",
              "      <td>4</td>\n",
              "      <td>4</td>\n",
              "      <td>4</td>\n",
              "      <td>4</td>\n",
              "      <td>2</td>\n",
              "      <td>4</td>\n",
              "      <td>3</td>\n",
              "      <td>4</td>\n",
              "      <td>4</td>\n",
              "      <td>4</td>\n",
              "      <td>4</td>\n",
              "      <td>4</td>\n",
              "      <td>4</td>\n",
              "      <td>4</td>\n",
              "      <td>4</td>\n",
              "      <td>4</td>\n",
              "      <td>4</td>\n",
              "      <td>4</td>\n",
              "      <td>3</td>\n",
              "      <td>4</td>\n",
              "      <td>4</td>\n",
              "      <td>4.0</td>\n",
              "      <td>4.0</td>\n",
              "      <td>1.0</td>\n",
              "      <td>1.0</td>\n",
              "      <td>3.51</td>\n",
              "      <td>1</td>\n",
              "    </tr>\n",
              "    <tr>\n",
              "      <th>260</th>\n",
              "      <td>0</td>\n",
              "      <td>1</td>\n",
              "      <td>0</td>\n",
              "      <td>2</td>\n",
              "      <td>3</td>\n",
              "      <td>3</td>\n",
              "      <td>3</td>\n",
              "      <td>4</td>\n",
              "      <td>4</td>\n",
              "      <td>3</td>\n",
              "      <td>4</td>\n",
              "      <td>4</td>\n",
              "      <td>4</td>\n",
              "      <td>3</td>\n",
              "      <td>4</td>\n",
              "      <td>1</td>\n",
              "      <td>3</td>\n",
              "      <td>4</td>\n",
              "      <td>3</td>\n",
              "      <td>3</td>\n",
              "      <td>3</td>\n",
              "      <td>3</td>\n",
              "      <td>2</td>\n",
              "      <td>3</td>\n",
              "      <td>2</td>\n",
              "      <td>3</td>\n",
              "      <td>1</td>\n",
              "      <td>1</td>\n",
              "      <td>3</td>\n",
              "      <td>3</td>\n",
              "      <td>2</td>\n",
              "      <td>2</td>\n",
              "      <td>4.0</td>\n",
              "      <td>2.0</td>\n",
              "      <td>4.0</td>\n",
              "      <td>1.0</td>\n",
              "      <td>3.51</td>\n",
              "      <td>0</td>\n",
              "    </tr>\n",
              "  </tbody>\n",
              "</table>\n",
              "<p>260 rows × 38 columns</p>\n",
              "</div>"
            ],
            "text/plain": [
              "     Gender  Nationality  Major  Level  IE1  ...   W2   W3  Employed  Score  Class\n",
              "ID                                           ...                                  \n",
              "1         0            1      0      2    4  ...  4.0  4.0       1.0   3.20      1\n",
              "2         0            0      0      2    4  ...  4.0  3.0       0.0   3.82      1\n",
              "3         0            1      0      1    3  ...  4.0  2.0       1.0   3.75      1\n",
              "4         1            1      1      3    4  ...  4.0  4.0       1.0   3.70      1\n",
              "5         0            0      0      2    4  ...  4.0  2.0       1.0   3.82      0\n",
              "..      ...          ...    ...    ...  ...  ...  ...  ...       ...    ...    ...\n",
              "256       1            0      1      2    4  ...  4.0  4.0       1.0   3.34      1\n",
              "257       0            0      0      1    4  ...  4.0  NaN       0.0   3.18      1\n",
              "258       0            0      0      1    3  ...  3.0  NaN       0.0   3.97      0\n",
              "259       1            0      0      2    4  ...  4.0  1.0       1.0   3.51      1\n",
              "260       0            1      0      2    3  ...  2.0  4.0       1.0   3.51      0\n",
              "\n",
              "[260 rows x 38 columns]"
            ]
          },
          "metadata": {
            "tags": []
          },
          "execution_count": 301
        }
      ]
    },
    {
      "cell_type": "markdown",
      "metadata": {
        "id": "HJcHSX6j1og2"
      },
      "source": [
        "##Data visualization to explore the dataset and identify data issues"
      ]
    },
    {
      "cell_type": "code",
      "metadata": {
        "colab": {
          "base_uri": "https://localhost:8080/",
          "height": 648
        },
        "id": "7K4KTvQtJNjR",
        "outputId": "657771e2-e043-4e8b-e404-7d5d4ae2e156"
      },
      "source": [
        "msno.matrix(df)"
      ],
      "execution_count": 302,
      "outputs": [
        {
          "output_type": "execute_result",
          "data": {
            "text/plain": [
              "<matplotlib.axes._subplots.AxesSubplot at 0x7fa0e39056a0>"
            ]
          },
          "metadata": {
            "tags": []
          },
          "execution_count": 302
        },
        {
          "output_type": "display_data",
          "data": {
            "image/png": "[encoded data removed]",
            "text/plain": [
              "<Figure size 1800x720 with 2 Axes>"
            ]
          },
          "metadata": {
            "tags": [],
            "needs_background": "light"
          }
        }
      ]
    },
    {
      "cell_type": "code",
      "metadata": {
        "colab": {
          "base_uri": "https://localhost:8080/"
        },
        "id": "oRm3gTntqI-C",
        "outputId": "a124e1a1-b40d-4b0f-ad0a-28ba34966915"
      },
      "source": [
        "df.columns"
      ],
      "execution_count": 303,
      "outputs": [
        {
          "output_type": "execute_result",
          "data": {
            "text/plain": [
              "Index(['Gender', 'Nationality', 'Major', 'Level', 'IE1', 'SMSK3', 'RAS1',\n",
              "       'RAS2', 'SMSK1', 'SMSK4', 'IE2', 'TL1', 'RAS3', 'IE3', 'RAS4', 'RAS5',\n",
              "       'IE4', 'SMSK2', 'TL2', 'TL3', 'PSD1', 'PSD2', 'PSD3', 'IE5', 'PSD4',\n",
              "       'PSD5', 'IM1', 'IM2', 'IM3', 'IM4', 'IM5', 'IM6', 'W1', 'W2', 'W3',\n",
              "       'Employed', 'Score', 'Class'],\n",
              "      dtype='object')"
            ]
          },
          "metadata": {
            "tags": []
          },
          "execution_count": 303
        }
      ]
    },
    {
      "cell_type": "code",
      "metadata": {
        "colab": {
          "base_uri": "https://localhost:8080/",
          "height": 778
        },
        "id": "IQ8OG6hNJVsO",
        "outputId": "cab25009-9ec8-4402-e813-989264b8b096"
      },
      "source": [
        "msno.heatmap(df)"
      ],
      "execution_count": 304,
      "outputs": [
        {
          "output_type": "execute_result",
          "data": {
            "text/plain": [
              "<matplotlib.axes._subplots.AxesSubplot at 0x7fa0e38c3128>"
            ]
          },
          "metadata": {
            "tags": []
          },
          "execution_count": 304
        },
        {
          "output_type": "display_data",
          "data": {
            "image/png": "[encoded data removed]",
            "text/plain": [
              "<Figure size 1440x864 with 2 Axes>"
            ]
          },
          "metadata": {
            "tags": [],
            "needs_background": "light"
          }
        }
      ]
    },
    {
      "cell_type": "code",
      "metadata": {
        "colab": {
          "base_uri": "https://localhost:8080/",
          "height": 696
        },
        "id": "NmYl32bzJaZj",
        "outputId": "20b1aea8-4942-4e4e-b862-804efbf6b600"
      },
      "source": [
        "msno.bar(df.sample(100))"
      ],
      "execution_count": 305,
      "outputs": [
        {
          "output_type": "execute_result",
          "data": {
            "text/plain": [
              "<matplotlib.axes._subplots.AxesSubplot at 0x7fa0e3cb9198>"
            ]
          },
          "metadata": {
            "tags": []
          },
          "execution_count": 305
        },
        {
          "output_type": "display_data",
          "data": {
            "image/png": "[encoded data removed]",
            "text/plain": [
              "<Figure size 1728x720 with 3 Axes>"
            ]
          },
          "metadata": {
            "tags": [],
            "needs_background": "light"
          }
        }
      ]
    },
    {
      "cell_type": "code",
      "metadata": {
        "colab": {
          "base_uri": "https://localhost:8080/",
          "height": 327
        },
        "id": "Q7ldzIKwJpaJ",
        "outputId": "f06931d6-9f3d-4540-b4ed-b468c17037b8"
      },
      "source": [
        "df.isnull().sum().plot.bar(figsize=(24,4))"
      ],
      "execution_count": 306,
      "outputs": [
        {
          "output_type": "execute_result",
          "data": {
            "text/plain": [
              "<matplotlib.axes._subplots.AxesSubplot at 0x7fa0e2f72dd8>"
            ]
          },
          "metadata": {
            "tags": []
          },
          "execution_count": 306
        },
        {
          "output_type": "display_data",
          "data": {
            "image/png": "[encoded data removed]",
            "text/plain": [
              "<Figure size 1728x288 with 1 Axes>"
            ]
          },
          "metadata": {
            "tags": [],
            "needs_background": "light"
          }
        }
      ]
    },
    {
      "cell_type": "markdown",
      "metadata": {
        "id": "kt4qmfXo10V3"
      },
      "source": [
        "=> We have Nan values in the columns 'W1' W2' W3' and 'Employed'.  "
      ]
    },
    {
      "cell_type": "markdown",
      "metadata": {
        "id": "p6gkMFkY3tiK"
      },
      "source": [
        "#### Let's modify the Nan values with the mean integer value of each row. "
      ]
    },
    {
      "cell_type": "code",
      "metadata": {
        "colab": {
          "base_uri": "https://localhost:8080/"
        },
        "id": "hDo1jcYg35zw",
        "outputId": "a9dd48a3-abbf-48e9-f2aa-ebeabe5bb107"
      },
      "source": [
        "print(df['W1'].isna().sum())\r\n",
        "print(df['W2'].isna().sum())\r\n",
        "print(df['W3'].isna().sum())\r\n",
        "print(df['Employed'].isna().sum())\r\n",
        "\r\n",
        "df['W3'].mean(axis = 0) \r\n",
        "df['W2'].mean(axis = 0) \r\n",
        "df['W1'].mean(axis = 0) \r\n",
        "df['Employed'].mean(axis = 0)\r\n",
        "\r\n",
        "df['W3'] = df['W3'].fillna(3.0)\r\n",
        "df['W2'] = df['W2'].fillna(3.0)\r\n",
        "df['W1'] = df['W1'].fillna(3.0)\r\n",
        "df['Employed'] = df['Employed'].fillna(1.0)\r\n",
        "\r\n",
        "df['W1'] = df['W1'].astype(int)\r\n",
        "df['W2'] = df['W2'].astype(int)\r\n",
        "df['W3'] = df['W3'].astype(int)\r\n",
        "df['Employed'] = df['Employed'].astype(int)"
      ],
      "execution_count": 307,
      "outputs": [
        {
          "output_type": "stream",
          "text": [
            "19\n",
            "14\n",
            "50\n",
            "2\n"
          ],
          "name": "stdout"
        }
      ]
    },
    {
      "cell_type": "markdown",
      "metadata": {
        "id": "UxvIMG7b398G"
      },
      "source": [
        "#### Let's remove the duplicate rows"
      ]
    },
    {
      "cell_type": "code",
      "metadata": {
        "colab": {
          "base_uri": "https://localhost:8080/"
        },
        "id": "RwlcM68FKO2r",
        "outputId": "f3bb2b01-8821-4d33-bbf5-c8d1457c2c08"
      },
      "source": [
        "initial_length = len(df)\r\n",
        "print('initial length = {}'.format(len(df)))\r\n",
        "df = df.drop_duplicates()\r\n",
        "without_duplicate_rows_length = len(df)\r\n",
        "print('without duplicate rows length = {}'.format(len(df)))\r\n",
        "num_duplicate_rows = initial_length - without_duplicate_rows_length\r\n",
        "print('num_duplicate_rows = {}'.format(num_duplicate_rows))"
      ],
      "execution_count": 308,
      "outputs": [
        {
          "output_type": "stream",
          "text": [
            "initial length = 260\n",
            "without duplicate rows length = 246\n",
            "num_duplicate_rows = 14\n"
          ],
          "name": "stdout"
        }
      ]
    },
    {
      "cell_type": "markdown",
      "metadata": {
        "id": "gPmFtG4j2gZP"
      },
      "source": [
        "=> 14 duplicated rows are removed. "
      ]
    },
    {
      "cell_type": "markdown",
      "metadata": {
        "id": "CEHGANzd4IFa"
      },
      "source": [
        "#### Let's visualize our target column."
      ]
    },
    {
      "cell_type": "code",
      "metadata": {
        "colab": {
          "base_uri": "https://localhost:8080/",
          "height": 496
        },
        "id": "PcJc1zRMKkXq",
        "outputId": "ddcd6945-c74c-4a01-9fdd-acc4c155d781"
      },
      "source": [
        "# Bar Pllot\r\n",
        "df['Class'].value_counts().plot.bar(figsize=(8,8))"
      ],
      "execution_count": 309,
      "outputs": [
        {
          "output_type": "execute_result",
          "data": {
            "text/plain": [
              "<matplotlib.axes._subplots.AxesSubplot at 0x7fa0e2ddf470>"
            ]
          },
          "metadata": {
            "tags": []
          },
          "execution_count": 309
        },
        {
          "output_type": "display_data",
          "data": {
            "image/png": "[encoded data removed]",
            "text/plain": [
              "<Figure size 576x576 with 1 Axes>"
            ]
          },
          "metadata": {
            "tags": [],
            "needs_background": "light"
          }
        }
      ]
    },
    {
      "cell_type": "code",
      "metadata": {
        "colab": {
          "base_uri": "https://localhost:8080/",
          "height": 573
        },
        "id": "S6s3TCm5L3k6",
        "outputId": "20960bde-cdcd-41ad-e873-7c8f3f875d79"
      },
      "source": [
        "# Pie chart\r\n",
        "sizes = df['Class'].value_counts()\r\n",
        "#colors\r\n",
        "colors = ['#66b3ff', '#99ff99']\r\n",
        "#explsion\r\n",
        "explode = (0.1,0.1)\r\n",
        "sizes.plot.pie( colors = colors, autopct='%1.1f%%',radius=3, startangle=50, pctdistance=0.55, explode = explode)\r\n",
        "#draw circle\r\n",
        "centre_circle = plt.Circle((0,0),1,fc='white')\r\n",
        "fig = plt.gcf()\r\n",
        "fig.gca().add_artist(centre_circle)\r\n",
        "plt.show()"
      ],
      "execution_count": 310,
      "outputs": [
        {
          "output_type": "display_data",
          "data": {
            "image/png": "[encoded data removed]",
            "text/plain": [
              "<Figure size 432x288 with 1 Axes>"
            ]
          },
          "metadata": {
            "tags": []
          }
        }
      ]
    },
    {
      "cell_type": "markdown",
      "metadata": {
        "id": "OjsNXMja4gBO"
      },
      "source": [
        "#Data pre-processing"
      ]
    },
    {
      "cell_type": "markdown",
      "metadata": {
        "id": "HJbBM6cg5YmG"
      },
      "source": [
        "For first stage we just split the target apart."
      ]
    },
    {
      "cell_type": "code",
      "metadata": {
        "id": "aLssvEoB9TBL"
      },
      "source": [
        "#Data integer conversion\r\n",
        "df = df.astype(int)\r\n",
        "#Train-Target Split\r\n",
        "X = df.drop('Class', axis=1) #train\r\n",
        "y = df['Class'] #target"
      ],
      "execution_count": 311,
      "outputs": []
    },
    {
      "cell_type": "code",
      "metadata": {
        "colab": {
          "base_uri": "https://localhost:8080/"
        },
        "id": "aC6BOdbdC0hV",
        "outputId": "10dcf7f9-8f48-4798-87f3-f0cdc813116f"
      },
      "source": [
        "len(X)"
      ],
      "execution_count": 312,
      "outputs": [
        {
          "output_type": "execute_result",
          "data": {
            "text/plain": [
              "246"
            ]
          },
          "metadata": {
            "tags": []
          },
          "execution_count": 312
        }
      ]
    },
    {
      "cell_type": "code",
      "metadata": {
        "colab": {
          "base_uri": "https://localhost:8080/"
        },
        "id": "nyShGJc8C2WJ",
        "outputId": "0a381c38-cd86-4133-aeb3-78a03659d85c"
      },
      "source": [
        "len(y)"
      ],
      "execution_count": 313,
      "outputs": [
        {
          "output_type": "execute_result",
          "data": {
            "text/plain": [
              "246"
            ]
          },
          "metadata": {
            "tags": []
          },
          "execution_count": 313
        }
      ]
    },
    {
      "cell_type": "markdown",
      "metadata": {
        "id": "ncIMVQis9ctR"
      },
      "source": [
        "Train-Test split 70% - 30%"
      ]
    },
    {
      "cell_type": "code",
      "metadata": {
        "id": "r9Dlh-KV9Tog"
      },
      "source": [
        "X_train, X_test, y_train, y_test = train_test_split(X, y, test_size = 0.30)\r\n",
        "#Data Min-Max Normalization\r\n",
        "scalar = MinMaxScaler()\r\n",
        "scalar.fit(X_train)\r\n",
        "X_train = scalar.transform(X_train)"
      ],
      "execution_count": 314,
      "outputs": []
    },
    {
      "cell_type": "markdown",
      "metadata": {
        "id": "QbuM2E9N9mbu"
      },
      "source": [
        "Data normalization for K-Fold analysis"
      ]
    },
    {
      "cell_type": "code",
      "metadata": {
        "id": "E12qqSZdPINg"
      },
      "source": [
        "#Data Min-Max Normalization\r\n",
        "scalar = MinMaxScaler()\r\n",
        "scalar.fit(X)\r\n",
        "X = scalar.transform(X)"
      ],
      "execution_count": 315,
      "outputs": []
    },
    {
      "cell_type": "markdown",
      "metadata": {
        "id": "30_LPtWY98Zj"
      },
      "source": [
        "#Supervised Machine Learning Models"
      ]
    },
    {
      "cell_type": "markdown",
      "metadata": {
        "id": "QpU3BQI8GPyL"
      },
      "source": [
        "Let's join all results together within a dataFrame."
      ]
    },
    {
      "cell_type": "code",
      "metadata": {
        "id": "WGX7s0pXGfJK"
      },
      "source": [
        "results_dataFrame= pd.DataFrame()"
      ],
      "execution_count": 316,
      "outputs": []
    },
    {
      "cell_type": "markdown",
      "metadata": {
        "id": "pAllw6Il-5Pl"
      },
      "source": [
        "##Decision Tree"
      ]
    },
    {
      "cell_type": "markdown",
      "metadata": {
        "id": "KzQB4y9_66wh"
      },
      "source": [
        "###Train-Test-Split Decision Tree Model"
      ]
    },
    {
      "cell_type": "code",
      "metadata": {
        "colab": {
          "base_uri": "https://localhost:8080/"
        },
        "id": "YdhFI5aDM3jU",
        "outputId": "2ae2da3d-f13b-4e2d-e7e4-5a62981b3f9a"
      },
      "source": [
        "clf = tree.DecisionTreeClassifier(random_state=0)\r\n",
        "clf = clf.fit(X_train, y_train)\r\n",
        "y_pred = clf.predict(X_test)\r\n",
        "clf_f1_score = f1_score(y_test, y_pred)\r\n",
        "print(confusion_matrix(y_test, y_pred))\r\n",
        "print(classification_report(y_test, y_pred))"
      ],
      "execution_count": 317,
      "outputs": [
        {
          "output_type": "stream",
          "text": [
            "[[ 0 44]\n",
            " [ 0 30]]\n",
            "              precision    recall  f1-score   support\n",
            "\n",
            "           0       0.00      0.00      0.00        44\n",
            "           1       0.41      1.00      0.58        30\n",
            "\n",
            "    accuracy                           0.41        74\n",
            "   macro avg       0.20      0.50      0.29        74\n",
            "weighted avg       0.16      0.41      0.23        74\n",
            "\n"
          ],
          "name": "stdout"
        },
        {
          "output_type": "stream",
          "text": [
            "/usr/local/lib/python3.6/dist-packages/sklearn/metrics/_classification.py:1272: UndefinedMetricWarning: Precision and F-score are ill-defined and being set to 0.0 in labels with no predicted samples. Use `zero_division` parameter to control this behavior.\n",
            "  _warn_prf(average, modifier, msg_start, len(result))\n"
          ],
          "name": "stderr"
        }
      ]
    },
    {
      "cell_type": "markdown",
      "metadata": {
        "id": "zfJtRUDu7Bgn"
      },
      "source": [
        "###K-Fold Decision Tree"
      ]
    },
    {
      "cell_type": "code",
      "metadata": {
        "colab": {
          "base_uri": "https://localhost:8080/"
        },
        "id": "3lFFqlEENDgL",
        "outputId": "be8c75bd-792d-4f40-e5ec-f9299d2ec619"
      },
      "source": [
        "kf = KFold(n_splits=4) # Define the split - into 4 folds \r\n",
        "kf.get_n_splits(X)  # returns the number of splitting iterations in the cross-validator\r\n",
        "print(kf) "
      ],
      "execution_count": 318,
      "outputs": [
        {
          "output_type": "stream",
          "text": [
            "KFold(n_splits=4, random_state=None, shuffle=False)\n"
          ],
          "name": "stdout"
        }
      ]
    },
    {
      "cell_type": "code",
      "metadata": {
        "colab": {
          "base_uri": "https://localhost:8080/",
          "height": 353
        },
        "id": "gxsSz5hOe2ar",
        "outputId": "137c3c87-7d2d-45a6-9ea3-b96353b4eaae"
      },
      "source": [
        "clf = tree.DecisionTreeClassifier(random_state=0)\r\n",
        "clf = clf.fit(X, y)\r\n",
        "# Perform 4-fold cross validation\r\n",
        "scores = cross_val_score(clf, X, y, cv=kf)\r\n",
        "print(\"Cross-validated scores:\", scores)\r\n",
        "# report performance\r\n",
        "print('Accuracy: %.3f (%.3f)' % (mean(scores), std(scores)))\r\n",
        "clf_k_fold_mean_scores=(mean(scores))\r\n",
        "print('k_fold_mean_scores =', k_fold)\r\n",
        "y_pred = cross_val_predict(clf, X, y, cv=kf)\r\n",
        "conf_mat = confusion_matrix(y, y_pred)\r\n",
        "print('conf_mat = ',conf_mat)\r\n",
        "f = sns.heatmap(conf_mat, annot=True)"
      ],
      "execution_count": 319,
      "outputs": [
        {
          "output_type": "stream",
          "text": [
            "Cross-validated scores: [0.93548387 0.93548387 0.95081967 0.86885246]\n",
            "Accuracy: 0.923 (0.032)\n",
            "k_fold_mean_scores = 0.861448968799577\n",
            "conf_mat =  [[118  10]\n",
            " [  9 109]]\n"
          ],
          "name": "stdout"
        },
        {
          "output_type": "display_data",
          "data": {
            "image/png": "[encoded data removed]",
            "text/plain": [
              "<Figure size 432x288 with 2 Axes>"
            ]
          },
          "metadata": {
            "tags": [],
            "needs_background": "light"
          }
        }
      ]
    },
    {
      "cell_type": "code",
      "metadata": {
        "id": "Cf3wplx-IN59"
      },
      "source": [
        "new_row = {'Model':'DecTree','K-fold_Accuracy':clf_k_fold_mean_scores, 'F1_score':clf_f1_score}\r\n",
        "\r\n",
        "#append row to the dataframe\r\n",
        "results_dataFrame = results_dataFrame.append(new_row, ignore_index=True)"
      ],
      "execution_count": 320,
      "outputs": []
    },
    {
      "cell_type": "markdown",
      "metadata": {
        "id": "gyl4jIAa_IEX"
      },
      "source": [
        "##Support Vector Machine (SVM) Model"
      ]
    },
    {
      "cell_type": "markdown",
      "metadata": {
        "id": "8PI6zQqlf8bx"
      },
      "source": [
        "###Train-Test-Split SVM"
      ]
    },
    {
      "cell_type": "code",
      "metadata": {
        "colab": {
          "base_uri": "https://localhost:8080/"
        },
        "id": "lboh_xXzfF88",
        "outputId": "990efc28-daa9-4a69-848d-be8fa846938b"
      },
      "source": [
        "svclassifier = SVC(kernel='poly', C=100,gamma=10).fit(X_train, y_train)\r\n",
        "svclassifier.fit(X_train, y_train)\r\n",
        "y_pred = svclassifier.predict(X_test)\r\n",
        "svm_f1_score = f1_score(y_test, y_pred)\r\n",
        "print(confusion_matrix(y_test,y_pred))\r\n",
        "print(classification_report(y_test,y_pred))"
      ],
      "execution_count": 321,
      "outputs": [
        {
          "output_type": "stream",
          "text": [
            "[[ 0 44]\n",
            " [ 0 30]]\n",
            "              precision    recall  f1-score   support\n",
            "\n",
            "           0       0.00      0.00      0.00        44\n",
            "           1       0.41      1.00      0.58        30\n",
            "\n",
            "    accuracy                           0.41        74\n",
            "   macro avg       0.20      0.50      0.29        74\n",
            "weighted avg       0.16      0.41      0.23        74\n",
            "\n"
          ],
          "name": "stdout"
        },
        {
          "output_type": "stream",
          "text": [
            "/usr/local/lib/python3.6/dist-packages/sklearn/metrics/_classification.py:1272: UndefinedMetricWarning: Precision and F-score are ill-defined and being set to 0.0 in labels with no predicted samples. Use `zero_division` parameter to control this behavior.\n",
            "  _warn_prf(average, modifier, msg_start, len(result))\n"
          ],
          "name": "stderr"
        }
      ]
    },
    {
      "cell_type": "markdown",
      "metadata": {
        "id": "JckzJWeH_OIy"
      },
      "source": [
        "###K-Fold SVM"
      ]
    },
    {
      "cell_type": "code",
      "metadata": {
        "colab": {
          "base_uri": "https://localhost:8080/",
          "height": 353
        },
        "id": "s0S8AfC8gCCi",
        "outputId": "d3d4c063-7a0a-4885-bc99-267b807d0e91"
      },
      "source": [
        "Kfold_svclassifier = SVC(kernel='poly', C=100,gamma=10).fit(X, y)\r\n",
        "# Perform 4-fold cross validation\r\n",
        "scores = cross_val_score(Kfold_svclassifier, X, y, cv=kf)\r\n",
        "print(\"Cross-validated scores:\", scores)\r\n",
        "# report performance\r\n",
        "print('Accuracy: %.3f (%.3f)' % (mean(scores), std(scores)))\r\n",
        "svm_k_fold_mean_scores=(mean(scores))\r\n",
        "print('k_fold_mean_scores =', k_fold)\r\n",
        "y_pred = cross_val_predict(Kfold_svclassifier, X, y, cv=kf)\r\n",
        "conf_mat = confusion_matrix(y, y_pred)\r\n",
        "print('conf_mat = ',conf_mat)\r\n",
        "f = sns.heatmap(conf_mat, annot=True)"
      ],
      "execution_count": 322,
      "outputs": [
        {
          "output_type": "stream",
          "text": [
            "Cross-validated scores: [0.85483871 0.87096774 0.93442623 0.81967213]\n",
            "Accuracy: 0.870 (0.042)\n",
            "k_fold_mean_scores = 0.861448968799577\n",
            "conf_mat =  [[112  16]\n",
            " [ 16 102]]\n"
          ],
          "name": "stdout"
        },
        {
          "output_type": "display_data",
          "data": {
            "image/png": "[encoded data removed]",
            "text/plain": [
              "<Figure size 432x288 with 2 Axes>"
            ]
          },
          "metadata": {
            "tags": [],
            "needs_background": "light"
          }
        }
      ]
    },
    {
      "cell_type": "code",
      "metadata": {
        "id": "49L1P_TJIaBZ"
      },
      "source": [
        "new_row = {'Model':'SVM','K-fold_Accuracy':svm_k_fold_mean_scores, 'F1_score':svm_f1_score}\r\n",
        "\r\n",
        "#append row to the dataframe\r\n",
        "results_dataFrame = results_dataFrame.append(new_row, ignore_index=True)"
      ],
      "execution_count": 323,
      "outputs": []
    },
    {
      "cell_type": "markdown",
      "metadata": {
        "id": "3-ETmxxC_UX5"
      },
      "source": [
        "##Naive Bayes (NB) Model"
      ]
    },
    {
      "cell_type": "markdown",
      "metadata": {
        "id": "3AziywAF8E1A"
      },
      "source": [
        "###Train-Test-Split NB"
      ]
    },
    {
      "cell_type": "code",
      "metadata": {
        "colab": {
          "base_uri": "https://localhost:8080/"
        },
        "id": "BTGp4piMgCsL",
        "outputId": "4cd57791-6e77-4370-9128-a0f10d749a0e"
      },
      "source": [
        "gnb = GaussianNB()\r\n",
        "y_pred = gnb.fit(X_train, y_train).predict(X_test)\r\n",
        "nb_f1_score = f1_score(y_test, y_pred)\r\n",
        "print(confusion_matrix(y_test, y_pred))\r\n",
        "print(classification_report(y_test, y_pred))"
      ],
      "execution_count": 324,
      "outputs": [
        {
          "output_type": "stream",
          "text": [
            "[[44  0]\n",
            " [30  0]]\n",
            "              precision    recall  f1-score   support\n",
            "\n",
            "           0       0.59      1.00      0.75        44\n",
            "           1       0.00      0.00      0.00        30\n",
            "\n",
            "    accuracy                           0.59        74\n",
            "   macro avg       0.30      0.50      0.37        74\n",
            "weighted avg       0.35      0.59      0.44        74\n",
            "\n"
          ],
          "name": "stdout"
        },
        {
          "output_type": "stream",
          "text": [
            "/usr/local/lib/python3.6/dist-packages/sklearn/metrics/_classification.py:1272: UndefinedMetricWarning: Precision and F-score are ill-defined and being set to 0.0 in labels with no predicted samples. Use `zero_division` parameter to control this behavior.\n",
            "  _warn_prf(average, modifier, msg_start, len(result))\n"
          ],
          "name": "stderr"
        }
      ]
    },
    {
      "cell_type": "markdown",
      "metadata": {
        "id": "0rBfG1pX_YIV"
      },
      "source": [
        "###K-Fold NB"
      ]
    },
    {
      "cell_type": "code",
      "metadata": {
        "colab": {
          "base_uri": "https://localhost:8080/",
          "height": 353
        },
        "id": "OQG2HdlUiqhO",
        "outputId": "c8366039-f8ba-4b81-9b8d-eee550af2d31"
      },
      "source": [
        "# Perform 4-fold cross validation\r\n",
        "gnb = GaussianNB()\r\n",
        "gnb = gnb.fit(X, y)\r\n",
        "scores = cross_val_score(gnb, X, y, cv=kf)\r\n",
        "print(\"Cross-validated scores:\", scores)\r\n",
        "# report performance\r\n",
        "print('Accuracy: %.3f (%.3f)' % (mean(scores), std(scores)))\r\n",
        "nb_k_fold_mean_scores=(mean(scores))\r\n",
        "print('k_fold_mean_scores =', k_fold)\r\n",
        "y_pred = cross_val_predict(gnb, X, y, cv=kf)\r\n",
        "conf_mat = confusion_matrix(y, y_pred)\r\n",
        "print('conf_mat = ',conf_mat)\r\n",
        "f = sns.heatmap(conf_mat, annot=True)"
      ],
      "execution_count": 325,
      "outputs": [
        {
          "output_type": "stream",
          "text": [
            "Cross-validated scores: [0.80645161 0.83870968 0.86885246 0.81967213]\n",
            "Accuracy: 0.833 (0.023)\n",
            "k_fold_mean_scores = 0.861448968799577\n",
            "conf_mat =  [[106  22]\n",
            " [ 19  99]]\n"
          ],
          "name": "stdout"
        },
        {
          "output_type": "display_data",
          "data": {
            "image/png": "[encoded data removed]",
            "text/plain": [
              "<Figure size 432x288 with 2 Axes>"
            ]
          },
          "metadata": {
            "tags": [],
            "needs_background": "light"
          }
        }
      ]
    },
    {
      "cell_type": "code",
      "metadata": {
        "id": "K_dNvE1MIqMO"
      },
      "source": [
        "new_row = {'Model':'NB','K-fold_Accuracy':nb_k_fold_mean_scores, 'F1_score':nb_f1_score}\r\n",
        "\r\n",
        "#append row to the dataframe\r\n",
        "results_dataFrame = results_dataFrame.append(new_row, ignore_index=True)"
      ],
      "execution_count": 326,
      "outputs": []
    },
    {
      "cell_type": "markdown",
      "metadata": {
        "id": "3reIgDyj_jSM"
      },
      "source": [
        "##Multilayer Perceptron (MLP) Model "
      ]
    },
    {
      "cell_type": "markdown",
      "metadata": {
        "id": "I3olK9rnlhTS"
      },
      "source": [
        "###Train-Test-Split MLP"
      ]
    },
    {
      "cell_type": "code",
      "metadata": {
        "colab": {
          "base_uri": "https://localhost:8080/"
        },
        "id": "wpB5wqwMi9pb",
        "outputId": "52a34b41-d0b6-49ca-e893-9830cce787c1"
      },
      "source": [
        "MLP = MLPClassifier(solver='lbfgs', alpha=1e-5, hidden_layer_sizes=(5, 2), random_state=1)\r\n",
        "MLP.fit(X_train, y_train)\r\n",
        "y_pred = svclassifier.predict(X_test)\r\n",
        "mlp_f1_score = f1_score(y_test, y_pred)\r\n",
        "print(confusion_matrix(y_test,y_pred))\r\n",
        "print(classification_report(y_test,y_pred))"
      ],
      "execution_count": 327,
      "outputs": [
        {
          "output_type": "stream",
          "text": [
            "[[ 0 44]\n",
            " [ 0 30]]\n",
            "              precision    recall  f1-score   support\n",
            "\n",
            "           0       0.00      0.00      0.00        44\n",
            "           1       0.41      1.00      0.58        30\n",
            "\n",
            "    accuracy                           0.41        74\n",
            "   macro avg       0.20      0.50      0.29        74\n",
            "weighted avg       0.16      0.41      0.23        74\n",
            "\n"
          ],
          "name": "stdout"
        },
        {
          "output_type": "stream",
          "text": [
            "/usr/local/lib/python3.6/dist-packages/sklearn/metrics/_classification.py:1272: UndefinedMetricWarning: Precision and F-score are ill-defined and being set to 0.0 in labels with no predicted samples. Use `zero_division` parameter to control this behavior.\n",
            "  _warn_prf(average, modifier, msg_start, len(result))\n"
          ],
          "name": "stderr"
        }
      ]
    },
    {
      "cell_type": "markdown",
      "metadata": {
        "id": "RE5c-uGP_zc5"
      },
      "source": [
        "###K-Fold MLP"
      ]
    },
    {
      "cell_type": "code",
      "metadata": {
        "colab": {
          "base_uri": "https://localhost:8080/",
          "height": 353
        },
        "id": "NMk5Rq-alf5S",
        "outputId": "f0b45400-e9b0-43d4-854e-981b0b94dd5d"
      },
      "source": [
        "# Perform 4-fold cross validation\r\n",
        "MLP = MLPClassifier(solver='lbfgs', alpha=1e-5, hidden_layer_sizes=(5, 2), random_state=1)\r\n",
        "MLP = MLP.fit(X, y)\r\n",
        "scores = cross_val_score(MLP, X, y, cv=kf)\r\n",
        "print(\"Cross-validated scores:\", scores)\r\n",
        "# report performance\r\n",
        "print('Accuracy: %.3f (%.3f)' % (mean(scores), std(scores)))\r\n",
        "mlp_k_fold_mean_scores=(mean(scores))\r\n",
        "print('k_fold_mean_scores =', k_fold)\r\n",
        "y_pred = cross_val_predict(MLP, X, y, cv=kf)\r\n",
        "conf_mat = confusion_matrix(y, y_pred)\r\n",
        "print('conf_mat = ',conf_mat)\r\n",
        "f = sns.heatmap(conf_mat, annot=True)"
      ],
      "execution_count": 328,
      "outputs": [
        {
          "output_type": "stream",
          "text": [
            "Cross-validated scores: [0.87096774 0.93548387 0.86885246 0.7704918 ]\n",
            "Accuracy: 0.861 (0.059)\n",
            "k_fold_mean_scores = 0.861448968799577\n",
            "conf_mat =  [[108  20]\n",
            " [ 14 104]]\n"
          ],
          "name": "stdout"
        },
        {
          "output_type": "display_data",
          "data": {
            "image/png": "[encoded data removed]",
            "text/plain": [
              "<Figure size 432x288 with 2 Axes>"
            ]
          },
          "metadata": {
            "tags": [],
            "needs_background": "light"
          }
        }
      ]
    },
    {
      "cell_type": "code",
      "metadata": {
        "id": "i5AQ5y1ml9EK"
      },
      "source": [
        "new_row = {'Model':'MLP','K-fold_Accuracy':mlp_k_fold_mean_scores, 'F1_score':mlp_f1_score}\r\n",
        "\r\n",
        "#append row to the dataframe\r\n",
        "results_dataFrame = results_dataFrame.append(new_row, ignore_index=True)"
      ],
      "execution_count": 329,
      "outputs": []
    },
    {
      "cell_type": "code",
      "metadata": {
        "colab": {
          "base_uri": "https://localhost:8080/",
          "height": 167
        },
        "id": "Pd8kxBOtJfIJ",
        "outputId": "b0f945a0-f8bb-4e05-c73c-e6a84d5e84b7"
      },
      "source": [
        "results_dataFrame"
      ],
      "execution_count": 330,
      "outputs": [
        {
          "output_type": "execute_result",
          "data": {
            "text/html": [
              "<div>\n",
              "<style scoped>\n",
              "    .dataframe tbody tr th:only-of-type {\n",
              "        vertical-align: middle;\n",
              "    }\n",
              "\n",
              "    .dataframe tbody tr th {\n",
              "        vertical-align: top;\n",
              "    }\n",
              "\n",
              "    .dataframe thead th {\n",
              "        text-align: right;\n",
              "    }\n",
              "</style>\n",
              "<table border=\"1\" class=\"dataframe\">\n",
              "  <thead>\n",
              "    <tr style=\"text-align: right;\">\n",
              "      <th></th>\n",
              "      <th>F1_score</th>\n",
              "      <th>K-fold_Accuracy</th>\n",
              "      <th>Model</th>\n",
              "    </tr>\n",
              "  </thead>\n",
              "  <tbody>\n",
              "    <tr>\n",
              "      <th>0</th>\n",
              "      <td>0.576923</td>\n",
              "      <td>0.922660</td>\n",
              "      <td>DecTree</td>\n",
              "    </tr>\n",
              "    <tr>\n",
              "      <th>1</th>\n",
              "      <td>0.576923</td>\n",
              "      <td>0.869976</td>\n",
              "      <td>SVM</td>\n",
              "    </tr>\n",
              "    <tr>\n",
              "      <th>2</th>\n",
              "      <td>0.000000</td>\n",
              "      <td>0.833421</td>\n",
              "      <td>NB</td>\n",
              "    </tr>\n",
              "    <tr>\n",
              "      <th>3</th>\n",
              "      <td>0.576923</td>\n",
              "      <td>0.861449</td>\n",
              "      <td>MLP</td>\n",
              "    </tr>\n",
              "  </tbody>\n",
              "</table>\n",
              "</div>"
            ],
            "text/plain": [
              "   F1_score  K-fold_Accuracy    Model\n",
              "0  0.576923         0.922660  DecTree\n",
              "1  0.576923         0.869976      SVM\n",
              "2  0.000000         0.833421       NB\n",
              "3  0.576923         0.861449      MLP"
            ]
          },
          "metadata": {
            "tags": []
          },
          "execution_count": 330
        }
      ]
    },
    {
      "cell_type": "markdown",
      "metadata": {
        "id": "6wNNa9h2MxDy"
      },
      "source": [
        "# Decision Tree outperforms all other models."
      ]
    }
  ]
}